{
 "cells": [
  {
   "cell_type": "markdown",
   "id": "020d2f4b-8812-464c-813e-46bd832ffd16",
   "metadata": {},
   "source": [
    "# 2021.12.16"
   ]
  },
  {
   "cell_type": "code",
   "execution_count": 1,
   "id": "00f36acc-bde2-4370-9b3d-633cd014bb60",
   "metadata": {},
   "outputs": [],
   "source": [
    "# 코드업 그리디\n",
    "# 3120 리모컨"
   ]
  },
  {
   "cell_type": "code",
   "execution_count": 42,
   "id": "72cdfd9d-949e-49b9-896b-3bb19d20d7aa",
   "metadata": {},
   "outputs": [
    {
     "name": "stdin",
     "output_type": "stream",
     "text": [
      " 3 22\n"
     ]
    },
    {
     "name": "stdout",
     "output_type": "stream",
     "text": [
      "3\n",
      "time :  1.0806605815887451\n"
     ]
    }
   ],
   "source": [
    "# 코드 개선\n",
    "a, b = map(int, input().split())\n",
    "df = [10, 5, 1]\n",
    "\n",
    "diff = abs(b-a)\n",
    "cnt = 0\n",
    "\n",
    "    \n",
    "if diff%10 in [9, 8]: \n",
    "    diff_with_a = 10 - diff%10\n",
    "    diff_s = diff + diff_with_a\n",
    "    \n",
    "    for i in range(3):    \n",
    "        cnt += diff_s // df[i]\n",
    "        diff_s = diff_s % df[i]\n",
    "    \n",
    "    cnt += diff_with_a\n",
    "        \n",
    "        \n",
    "elif diff%10 == 4:\n",
    "    diff_with_a = 5 - diff%5\n",
    "    diff_s = diff + diff_with_a\n",
    "    \n",
    "    for i in range(3):\n",
    "        cnt += diff_s // df[i]\n",
    "        diff_s = diff_s % df[i]\n",
    "    \n",
    "    cnt += diff_with_a\n",
    "\n",
    "else:\n",
    "    for i in range(3):\n",
    "        cnt += diff // df[i]\n",
    "        diff = diff % df[i]\n",
    "        \n",
    "        \n",
    "print(cnt)"
   ]
  },
  {
   "cell_type": "code",
   "execution_count": 43,
   "id": "3574dc43-b5e2-4ba3-a1f0-4e248c3cc5b8",
   "metadata": {},
   "outputs": [
    {
     "name": "stdin",
     "output_type": "stream",
     "text": [
      " 3 22\n"
     ]
    },
    {
     "name": "stdout",
     "output_type": "stream",
     "text": [
      "3\n",
      "time :  0.9224228858947754\n"
     ]
    }
   ],
   "source": [
    "# 영민 풀이\n",
    "# CodeUp 3120 리모컨\n",
    "a,b = map(int, input().split())\n",
    "B = abs(a-b)                      # 두 온도차의 절대값\n",
    "R = 0                             # 반복 횟수\n",
    "\n",
    "while B != 0:\n",
    "    if B >= 10:\n",
    "        B = B - 10\n",
    "        R += 1\n",
    "    else:\n",
    "        if B > 7:\n",
    "            B += 1\n",
    "            R += 1\n",
    "        elif B > 4:\n",
    "            B = B - 5\n",
    "            R += 1\n",
    "        elif B > 2:\n",
    "            B += 1\n",
    "            R += 1\n",
    "        else:\n",
    "            B = B -1\n",
    "            R += 1\n",
    "            \n",
    "print(R)\n",
    "\n",
    "end_time = time.time() # 측정 종료\n",
    "print(\"time : \", end_time - start_time) # 수행 시간 출력"
   ]
  },
  {
   "cell_type": "code",
   "execution_count": 44,
   "id": "cebc962b-abd1-4344-b563-9c37331b67cf",
   "metadata": {},
   "outputs": [
    {
     "name": "stdin",
     "output_type": "stream",
     "text": [
      " 3 22\n"
     ]
    },
    {
     "name": "stdout",
     "output_type": "stream",
     "text": [
      "3\n",
      "time :  1.3150413036346436\n"
     ]
    }
   ],
   "source": [
    "# 구글링 풀이\n",
    "# CodeUp 3120 리모컨\n",
    "a,b = map(int, input().split())\n",
    "B = abs(a-b)                      # 두 온도차의 절대값\n",
    "R = B//10                         # 반복 횟수\n",
    "\n",
    "\n",
    "if B%10 in [1,5]:\n",
    "    R += 1\n",
    "elif B%10 in [2,4,6,9]:\n",
    "    R += 2\n",
    "elif B%10 in [3,7,8]:\n",
    "    R += 3\n",
    "            \n",
    "print(R)\n",
    "\n",
    "end_time = time.time() # 측정 종료\n",
    "print(\"time : \", end_time - start_time) # 수행 시간 출력"
   ]
  }
 ],
 "metadata": {
  "kernelspec": {
   "display_name": "Python 3 (ipykernel)",
   "language": "python",
   "name": "python3"
  },
  "language_info": {
   "codemirror_mode": {
    "name": "ipython",
    "version": 3
   },
   "file_extension": ".py",
   "mimetype": "text/x-python",
   "name": "python",
   "nbconvert_exporter": "python",
   "pygments_lexer": "ipython3",
   "version": "3.8.12"
  }
 },
 "nbformat": 4,
 "nbformat_minor": 5
}
