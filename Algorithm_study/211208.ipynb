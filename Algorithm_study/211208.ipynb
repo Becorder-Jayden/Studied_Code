{
 "cells": [
  {
   "cell_type": "markdown",
   "id": "51d1e5d0-6428-4202-a048-d05c81cb9c4b",
   "metadata": {},
   "source": [
    "# 2021.12.08\n",
    "\n"
   ]
  },
  {
   "cell_type": "code",
   "execution_count": 2,
   "id": "e83e3127-ef5a-488a-9f08-c25f475bd716",
   "metadata": {},
   "outputs": [],
   "source": [
    "# Silver II\n",
    "# 11047 동전 0"
   ]
  },
  {
   "cell_type": "code",
   "execution_count": 19,
   "id": "016e3cc8-d9d6-44de-b1e2-aeed40c2663a",
   "metadata": {},
   "outputs": [
    {
     "name": "stdin",
     "output_type": "stream",
     "text": [
      " 10 4790\n",
      " 1\n",
      " 5\n",
      " 10\n",
      " 50\n",
      " 100\n",
      " 500\n",
      " 1000\n",
      " 5000\n",
      " 10000\n",
      " 50000\n"
     ]
    },
    {
     "name": "stdout",
     "output_type": "stream",
     "text": [
      "12\n"
     ]
    }
   ],
   "source": [
    "N, K = map(int, input().split())\n",
    "count = 0\n",
    "coin = []\n",
    "\n",
    "for i in range(N):\n",
    "    A = int(input())\n",
    "    coin.append(A)\n",
    "    \n",
    "coin = sorted(coin, reverse=True)\n",
    "\n",
    "for i in coin:\n",
    "        count += K//i\n",
    "        K = K%i \n",
    "\n",
    "print(count)"
   ]
  },
  {
   "cell_type": "code",
   "execution_count": null,
   "id": "3d315547-7f24-4647-9dd4-371def28db4c",
   "metadata": {},
   "outputs": [],
   "source": []
  }
 ],
 "metadata": {
  "kernelspec": {
   "display_name": "Python 3 (ipykernel)",
   "language": "python",
   "name": "python3"
  },
  "language_info": {
   "codemirror_mode": {
    "name": "ipython",
    "version": 3
   },
   "file_extension": ".py",
   "mimetype": "text/x-python",
   "name": "python",
   "nbconvert_exporter": "python",
   "pygments_lexer": "ipython3",
   "version": "3.8.12"
  }
 },
 "nbformat": 4,
 "nbformat_minor": 5
}
