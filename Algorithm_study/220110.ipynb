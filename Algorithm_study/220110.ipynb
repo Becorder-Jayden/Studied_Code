{
 "cells": [
  {
   "cell_type": "markdown",
   "id": "04c6330d-b807-4981-9c55-11a036762d54",
   "metadata": {},
   "source": [
    "# 2022.01.10"
   ]
  },
  {
   "cell_type": "code",
   "execution_count": 2,
   "id": "00385a43-a402-4e67-b7b3-51f63c9be39b",
   "metadata": {},
   "outputs": [],
   "source": [
    "# Silver I\n",
    "# 미로 탐색 (재풀이)"
   ]
  },
  {
   "cell_type": "code",
   "execution_count": 7,
   "id": "a7bcd723-ea22-4b61-a30a-4623549173a6",
   "metadata": {},
   "outputs": [
    {
     "name": "stdin",
     "output_type": "stream",
     "text": [
      " 4 6\n",
      " 101111\n",
      " 101010\n",
      " 101011\n",
      " 111011\n"
     ]
    },
    {
     "name": "stdout",
     "output_type": "stream",
     "text": [
      "[[1, 0, 1, 1, 1, 1], [1, 0, 1, 0, 1, 0], [1, 0, 1, 0, 1, 1], [1, 1, 1, 0, 1, 1]]\n"
     ]
    }
   ],
   "source": [
    "N, M = map(int, input().split())\n",
    "graph = [list(map(int,input())) for i in range(N)]\n",
    "print(graph)"
   ]
  },
  {
   "cell_type": "code",
   "execution_count": null,
   "id": "3c393f1b-0292-4bca-afe9-9937f1a9340c",
   "metadata": {},
   "outputs": [],
   "source": [
    "from collections import deque\n",
    "\n",
    "def bfs(x, y):\n",
    "    dx = [0,0,-1,1]\n",
    "    dy = [1,-1,0,0]\n",
    "    \n",
    "    queue = deque()\n",
    "    \n",
    "    if graph[y][x] == 1:\n",
    "        queue.append((x, y))\n",
    "    \n",
    "    while queue:\n",
    "        x, y = queue.popleft()\n",
    "               \n",
    "        for i in range(4):\n",
    "            nx = x+dx[i]\n",
    "            ny = y+dy[i]\n",
    "            \n",
    "            if 0<=nx<M and 0<=ny<N:\n",
    "                queue.append((nx, ny))\n",
    "                graph[ny][nx] = graph[y][x] + 1\n",
    "    \n",
    "    return graph\n"
   ]
  },
  {
   "cell_type": "code",
   "execution_count": null,
   "id": "13730241-018f-4501-9191-0762f35186a5",
   "metadata": {},
   "outputs": [],
   "source": []
  }
 ],
 "metadata": {
  "kernelspec": {
   "display_name": "Python 3 (ipykernel)",
   "language": "python",
   "name": "python3"
  },
  "language_info": {
   "codemirror_mode": {
    "name": "ipython",
    "version": 3
   },
   "file_extension": ".py",
   "mimetype": "text/x-python",
   "name": "python",
   "nbconvert_exporter": "python",
   "pygments_lexer": "ipython3",
   "version": "3.8.12"
  }
 },
 "nbformat": 4,
 "nbformat_minor": 5
}
