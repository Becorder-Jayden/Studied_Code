{
 "cells": [
  {
   "cell_type": "markdown",
   "id": "ac44e596-f702-4210-85f9-660ef4ea3d79",
   "metadata": {},
   "source": [
    "# 2022.02.12 "
   ]
  },
  {
   "cell_type": "code",
   "execution_count": 1,
   "id": "18d6e164-2bd6-4225-b425-8a4be74d0c36",
   "metadata": {},
   "outputs": [],
   "source": [
    "# Silver I\n",
    "# 1932 정수 삼각형"
   ]
  },
  {
   "cell_type": "code",
   "execution_count": 93,
   "id": "28800cb6-044d-4432-bb17-2489ad27751c",
   "metadata": {},
   "outputs": [],
   "source": [
    "T = 5\n",
    "li[0] = [7]\n",
    "li[1] = [3, 8]\n",
    "li[2] = [8, 1, 0]\n",
    "li[3] = [2, 7, 4, 4]\n",
    "li[4] = [4, 5, 2, 6, 5]\n",
    "li = [[7], [3,8], [8,1,0],[2,7,4,4], [4,5,2,6,5]]"
   ]
  },
  {
   "cell_type": "code",
   "execution_count": 72,
   "id": "d542887b-a630-4e81-9fa8-8436419bc2ee",
   "metadata": {},
   "outputs": [
    {
     "name": "stdout",
     "output_type": "stream",
     "text": [
      "[7, 12, 10, 10]\n"
     ]
    }
   ],
   "source": [
    "for i in range(len(li[3])):\n",
    "    li[3][i] = li[3][i] + max(li[4][i], li[4][i+1])\n",
    "\n",
    "print(li[3])"
   ]
  },
  {
   "cell_type": "code",
   "execution_count": 94,
   "id": "70931bab-c603-4924-ae97-2fe9a5ee851c",
   "metadata": {},
   "outputs": [],
   "source": [
    "T = 5"
   ]
  },
  {
   "cell_type": "code",
   "execution_count": 96,
   "id": "7bd966de-726d-43c0-bb26-a68e44a06163",
   "metadata": {},
   "outputs": [
    {
     "name": "stdout",
     "output_type": "stream",
     "text": [
      "[[90], [60, 51], [37, 30, 26], [12, 17, 16, 16], [4, 5, 2, 6, 5]]\n",
      "90\n"
     ]
    }
   ],
   "source": [
    "for i in reversed(range(T-1)):\n",
    "    for j in range(len(li[i])):\n",
    "        li[i][j] = li[i][j] + max(li[i+1][j], li[i+1][j+1])\n",
    "print(li)\n",
    "print(li[0][0])"
   ]
  },
  {
   "cell_type": "code",
   "execution_count": 97,
   "id": "442c04a6-2b6c-42b5-848b-6249379853bb",
   "metadata": {},
   "outputs": [
    {
     "name": "stdin",
     "output_type": "stream",
     "text": [
      " 5\n",
      " 7\n",
      " 3 8\n",
      " 8 1 0\n",
      " 2 7 4 4 \n",
      " 4 5 2 6 5\n"
     ]
    },
    {
     "name": "stdout",
     "output_type": "stream",
     "text": [
      "30\n"
     ]
    }
   ],
   "source": [
    "# 최종\n",
    "T = int(input())\n",
    "li = []\n",
    "for _ in range(T):\n",
    "    nums = list(map(int, input().split()))\n",
    "    li.append(nums)\n",
    "    \n",
    "for i in reversed(range(T-1)):\n",
    "    for j in range(len(li[i])):\n",
    "        li[i][j] = li[i][j] + max(li[i+1][j], li[i+1][j+1])\n",
    "\n",
    "print(li[0][0])"
   ]
  }
 ],
 "metadata": {
  "kernelspec": {
   "display_name": "Python 3 (ipykernel)",
   "language": "python",
   "name": "python3"
  },
  "language_info": {
   "codemirror_mode": {
    "name": "ipython",
    "version": 3
   },
   "file_extension": ".py",
   "mimetype": "text/x-python",
   "name": "python",
   "nbconvert_exporter": "python",
   "pygments_lexer": "ipython3",
   "version": "3.8.12"
  }
 },
 "nbformat": 4,
 "nbformat_minor": 5
}
