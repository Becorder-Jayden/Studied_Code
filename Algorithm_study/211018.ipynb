{
 "cells": [
  {
   "cell_type": "code",
   "execution_count": null,
   "id": "ca590edc-e55b-433b-812f-efdf4f1e2119",
   "metadata": {},
   "outputs": [],
   "source": [
    "# 4344 평균은 넘겠지 - 숙제 \n",
    "\n",
    "n = int(input())\n",
    "\n",
    "for i in range(n):\n",
    "    num = list(map(int, input().split()))\n",
    "    h = num[0]\n",
    "    s = sum(num) - h\n",
    "    su = s/h\n",
    "    \n",
    "    cnt = len(num)-1\n",
    "    print(cnt-1)"
   ]
  },
  {
   "cell_type": "code",
   "execution_count": 60,
   "id": "ce3326a8-f430-4dc9-b262-27b6e3f05f10",
   "metadata": {},
   "outputs": [
    {
     "name": "stdin",
     "output_type": "stream",
     "text": [
      " 5\n",
      " 5\n",
      " 2\n",
      " 3\n",
      " 4\n",
      " 1\n"
     ]
    },
    {
     "name": "stdout",
     "output_type": "stream",
     "text": [
      "1\n",
      "2\n",
      "3\n",
      "4\n",
      "5\n"
     ]
    }
   ],
   "source": [
    "# bronze 1\n",
    "# 2750 수 정렬하기\n",
    "\n",
    "n = int(input())ㅇ\n",
    "lis = []\n",
    "\n",
    "for i in range(n):\n",
    "    m = int(input())\n",
    "    lis.append(m)\n",
    "\n",
    "a = sorted(lis)\n",
    "#a.sort()로 사용하기도 함\n",
    "\n",
    "for i in a:\n",
    "    print(i)"
   ]
  },
  {
   "cell_type": "code",
   "execution_count": null,
   "id": "0afa5a02-e663-4379-8f27-cd97c58e9480",
   "metadata": {},
   "outputs": [],
   "source": []
  }
 ],
 "metadata": {
  "kernelspec": {
   "display_name": "Python 3",
   "language": "python",
   "name": "python3"
  },
  "language_info": {
   "codemirror_mode": {
    "name": "ipython",
    "version": 3
   },
   "file_extension": ".py",
   "mimetype": "text/x-python",
   "name": "python",
   "nbconvert_exporter": "python",
   "pygments_lexer": "ipython3",
   "version": "3.8.8"
  }
 },
 "nbformat": 4,
 "nbformat_minor": 5
}
