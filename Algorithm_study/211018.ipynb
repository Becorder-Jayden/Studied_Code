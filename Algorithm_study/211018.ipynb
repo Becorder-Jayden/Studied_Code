{
 "cells": [
  {
   "cell_type": "code",
   "execution_count": null,
   "id": "ca590edc-e55b-433b-812f-efdf4f1e2119",
   "metadata": {},
   "outputs": [],
   "source": [
    "# 4344 평균은 넘겠지 - 숙제 \n",
    "\n",
    "n = int(input())\n",
    "\n",
    "for i in range(n):\n",
    "    num = list(map(int, input().split()))\n",
    "    h = num[0]\n",
    "    s = sum(num) - h\n",
    "    su = s/h\n",
    "    \n",
    "    cnt = len(num)-1\n",
    "    print(cnt-1)"
   ]
  },
  {
   "cell_type": "code",
   "execution_count": 17,
   "id": "ce3326a8-f430-4dc9-b262-27b6e3f05f10",
   "metadata": {},
   "outputs": [
    {
     "name": "stdin",
     "output_type": "stream",
     "text": [
      " 5\n",
      " ab\n"
     ]
    },
    {
     "name": "stdout",
     "output_type": "stream",
     "text": [
      "글자가 모두 다른 입력값\n"
     ]
    },
    {
     "name": "stdin",
     "output_type": "stream",
     "text": [
      " aa\n"
     ]
    },
    {
     "name": "stdout",
     "output_type": "stream",
     "text": [
      "글자가 2개 이상 동일한 입력값\n"
     ]
    },
    {
     "name": "stdin",
     "output_type": "stream",
     "text": [
      " aca\n"
     ]
    },
    {
     "name": "stdout",
     "output_type": "stream",
     "text": [
      "글자가 2개 이상 동일한 입력값\n"
     ]
    },
    {
     "name": "stdin",
     "output_type": "stream",
     "text": [
      " ba\n"
     ]
    },
    {
     "name": "stdout",
     "output_type": "stream",
     "text": [
      "글자가 모두 다른 입력값\n"
     ]
    },
    {
     "name": "stdin",
     "output_type": "stream",
     "text": [
      " bb\n"
     ]
    },
    {
     "name": "stdout",
     "output_type": "stream",
     "text": [
      "글자가 2개 이상 동일한 입력값\n"
     ]
    }
   ],
   "source": [
    "# bronze 1\n",
    "# 2750 수 정렬하기\n",
    "\n",
    "# step 1\n",
    "n = int(input())\n",
    "\n",
    "for i in range(n):\n",
    "    text = input()\n",
    "    \n",
    "    if len(set(list(text)))==len(list(text)):\n",
    "        print('글자가 모두 다른 입력값')\n",
    "    \n",
    "    else: # 글자가 2개 이상 동일한 입력값\n",
    "        print('글자가 2개 이상 동일한 입력값')\n",
    "    "
   ]
  },
  {
   "cell_type": "code",
   "execution_count": null,
   "id": "5d2e9739-400e-4c8a-be21-247c0ec799f1",
   "metadata": {},
   "outputs": [],
   "source": []
  },
  {
   "cell_type": "code",
   "execution_count": 57,
   "id": "b7845466-0a12-4753-8328-dd6f28099ed5",
   "metadata": {},
   "outputs": [
    {
     "name": "stdin",
     "output_type": "stream",
     "text": [
      " 3\n"
     ]
    },
    {
     "name": "stdout",
     "output_type": "stream",
     "text": [
      "2\n"
     ]
    },
    {
     "ename": "KeyboardInterrupt",
     "evalue": "Interrupted by user",
     "output_type": "error",
     "traceback": [
      "\u001b[1;31m---------------------------------------------------------------------------\u001b[0m",
      "\u001b[1;31mKeyboardInterrupt\u001b[0m                         Traceback (most recent call last)",
      "\u001b[1;32m<ipython-input-57-ba4b02f49a82>\u001b[0m in \u001b[0;36m<module>\u001b[1;34m\u001b[0m\n\u001b[0;32m      5\u001b[0m \u001b[1;33m\u001b[0m\u001b[0m\n\u001b[0;32m      6\u001b[0m \u001b[1;32mfor\u001b[0m \u001b[0mi\u001b[0m \u001b[1;32min\u001b[0m \u001b[0mrange\u001b[0m\u001b[1;33m(\u001b[0m\u001b[0mn\u001b[0m\u001b[1;33m)\u001b[0m\u001b[1;33m:\u001b[0m\u001b[1;33m\u001b[0m\u001b[1;33m\u001b[0m\u001b[0m\n\u001b[1;32m----> 7\u001b[1;33m     \u001b[0mtext\u001b[0m \u001b[1;33m=\u001b[0m \u001b[0minput\u001b[0m\u001b[1;33m(\u001b[0m\u001b[1;33m)\u001b[0m\u001b[1;33m\u001b[0m\u001b[1;33m\u001b[0m\u001b[0m\n\u001b[0m\u001b[0;32m      8\u001b[0m \u001b[1;33m\u001b[0m\u001b[0m\n\u001b[0;32m      9\u001b[0m     \u001b[1;32mif\u001b[0m \u001b[0mlen\u001b[0m\u001b[1;33m(\u001b[0m\u001b[0mset\u001b[0m\u001b[1;33m(\u001b[0m\u001b[0mlist\u001b[0m\u001b[1;33m(\u001b[0m\u001b[0mtext\u001b[0m\u001b[1;33m)\u001b[0m\u001b[1;33m)\u001b[0m\u001b[1;33m)\u001b[0m\u001b[1;33m==\u001b[0m\u001b[0mlen\u001b[0m\u001b[1;33m(\u001b[0m\u001b[0mlist\u001b[0m\u001b[1;33m(\u001b[0m\u001b[0mtext\u001b[0m\u001b[1;33m)\u001b[0m\u001b[1;33m)\u001b[0m\u001b[1;33m:\u001b[0m\u001b[1;33m\u001b[0m\u001b[1;33m\u001b[0m\u001b[0m\n",
      "\u001b[1;32m~\\anaconda3\\lib\\site-packages\\ipykernel\\kernelbase.py\u001b[0m in \u001b[0;36mraw_input\u001b[1;34m(self, prompt)\u001b[0m\n\u001b[0;32m    858\u001b[0m                 \u001b[1;34m\"raw_input was called, but this frontend does not support input requests.\"\u001b[0m\u001b[1;33m\u001b[0m\u001b[1;33m\u001b[0m\u001b[0m\n\u001b[0;32m    859\u001b[0m             )\n\u001b[1;32m--> 860\u001b[1;33m         return self._input_request(str(prompt),\n\u001b[0m\u001b[0;32m    861\u001b[0m             \u001b[0mself\u001b[0m\u001b[1;33m.\u001b[0m\u001b[0m_parent_ident\u001b[0m\u001b[1;33m,\u001b[0m\u001b[1;33m\u001b[0m\u001b[1;33m\u001b[0m\u001b[0m\n\u001b[0;32m    862\u001b[0m             \u001b[0mself\u001b[0m\u001b[1;33m.\u001b[0m\u001b[0m_parent_header\u001b[0m\u001b[1;33m,\u001b[0m\u001b[1;33m\u001b[0m\u001b[1;33m\u001b[0m\u001b[0m\n",
      "\u001b[1;32m~\\anaconda3\\lib\\site-packages\\ipykernel\\kernelbase.py\u001b[0m in \u001b[0;36m_input_request\u001b[1;34m(self, prompt, ident, parent, password)\u001b[0m\n\u001b[0;32m    902\u001b[0m             \u001b[1;32mexcept\u001b[0m \u001b[0mKeyboardInterrupt\u001b[0m\u001b[1;33m:\u001b[0m\u001b[1;33m\u001b[0m\u001b[1;33m\u001b[0m\u001b[0m\n\u001b[0;32m    903\u001b[0m                 \u001b[1;31m# re-raise KeyboardInterrupt, to truncate traceback\u001b[0m\u001b[1;33m\u001b[0m\u001b[1;33m\u001b[0m\u001b[1;33m\u001b[0m\u001b[0m\n\u001b[1;32m--> 904\u001b[1;33m                 \u001b[1;32mraise\u001b[0m \u001b[0mKeyboardInterrupt\u001b[0m\u001b[1;33m(\u001b[0m\u001b[1;34m\"Interrupted by user\"\u001b[0m\u001b[1;33m)\u001b[0m \u001b[1;32mfrom\u001b[0m \u001b[1;32mNone\u001b[0m\u001b[1;33m\u001b[0m\u001b[1;33m\u001b[0m\u001b[0m\n\u001b[0m\u001b[0;32m    905\u001b[0m             \u001b[1;32mexcept\u001b[0m \u001b[0mException\u001b[0m \u001b[1;32mas\u001b[0m \u001b[0me\u001b[0m\u001b[1;33m:\u001b[0m\u001b[1;33m\u001b[0m\u001b[1;33m\u001b[0m\u001b[0m\n\u001b[0;32m    906\u001b[0m                 \u001b[0mself\u001b[0m\u001b[1;33m.\u001b[0m\u001b[0mlog\u001b[0m\u001b[1;33m.\u001b[0m\u001b[0mwarning\u001b[0m\u001b[1;33m(\u001b[0m\u001b[1;34m\"Invalid Message:\"\u001b[0m\u001b[1;33m,\u001b[0m \u001b[0mexc_info\u001b[0m\u001b[1;33m=\u001b[0m\u001b[1;32mTrue\u001b[0m\u001b[1;33m)\u001b[0m\u001b[1;33m\u001b[0m\u001b[1;33m\u001b[0m\u001b[0m\n",
      "\u001b[1;31mKeyboardInterrupt\u001b[0m: Interrupted by user"
     ]
    }
   ],
   "source": [
    "# n = int(input())\n",
    "s = 0\n",
    "l1 = []\n",
    "l2 = []\n",
    "\n",
    "for i in range(n):\n",
    "    text = input()\n",
    "    \n",
    "    if len(set(list(text)))==len(list(text)):\n",
    "        s += 1\n",
    "    \n",
    "    else: # 글자가 2개 이상 동일한 입력값\n",
    "        for j in text:\n",
    "            l1.append(j)\n",
    "            try:\n",
    "                if j==l2[-1]:\n",
    "                    s+=1\n",
    "                else:\n",
    "                    l2.append(j)\n",
    "            except:\n",
    "                l2.append(j)\n",
    "    print(s)"
   ]
  },
  {
   "cell_type": "code",
   "execution_count": 64,
   "id": "8aade76b-a4cc-4d7e-b998-dc9b7646e3d9",
   "metadata": {},
   "outputs": [
    {
     "ename": "IndentationError",
     "evalue": "unexpected indent (<ipython-input-64-e82526241437>, line 22)",
     "output_type": "error",
     "traceback": [
      "\u001b[1;36m  File \u001b[1;32m\"<ipython-input-64-e82526241437>\"\u001b[1;36m, line \u001b[1;32m22\u001b[0m\n\u001b[1;33m    print(s)\u001b[0m\n\u001b[1;37m    ^\u001b[0m\n\u001b[1;31mIndentationError\u001b[0m\u001b[1;31m:\u001b[0m unexpected indent\n"
     ]
    }
   ],
   "source": [
    "# n = int(input())\n",
    "s = 0\n",
    "l1 = []\n",
    "l2 = []\n",
    "\n",
    "for i in range(n):\n",
    "    text = input()\n",
    "    \n",
    "    if len(set(list(text)))!=len(list(text)):\n",
    "        for j in text:\n",
    "            l1.append(j)\n",
    "        try:\n",
    "            if j==l2[-1]:\n",
    "                s+=1\n",
    "            else:\n",
    "                l2.append(j)\n",
    "        except:\n",
    "            l2.append(j)\n",
    "    \n",
    "    else: # 글자가 모두 다른 입력값\n",
    "        s=1\n",
    "            "
   ]
  },
  {
   "cell_type": "code",
   "execution_count": null,
   "id": "21f09321-a587-4fea-83bd-36223b03e526",
   "metadata": {},
   "outputs": [],
   "source": []
  },
  {
   "cell_type": "code",
   "execution_count": null,
   "id": "4c9961ce-23fa-40a3-b3e1-bab8a881d94f",
   "metadata": {},
   "outputs": [],
   "source": []
  }
 ],
 "metadata": {
  "kernelspec": {
   "display_name": "Python 3",
   "language": "python",
   "name": "python3"
  },
  "language_info": {
   "codemirror_mode": {
    "name": "ipython",
    "version": 3
   },
   "file_extension": ".py",
   "mimetype": "text/x-python",
   "name": "python",
   "nbconvert_exporter": "python",
   "pygments_lexer": "ipython3",
   "version": "3.8.8"
  }
 },
 "nbformat": 4,
 "nbformat_minor": 5
}
