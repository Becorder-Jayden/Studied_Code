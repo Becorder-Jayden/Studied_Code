{
 "cells": [
  {
   "cell_type": "markdown",
   "id": "d3db718b-7ae0-4fcd-9a87-417ea4d00421",
   "metadata": {},
   "source": [
    "# 2022.01.16"
   ]
  },
  {
   "cell_type": "code",
   "execution_count": null,
   "id": "63a921da-f367-4885-8591-48149149a037",
   "metadata": {},
   "outputs": [],
   "source": [
    "# Silver I\n",
    "# 1697 숨바꼭질 (재풀이)"
   ]
  },
  {
   "cell_type": "code",
   "execution_count": 18,
   "id": "ddaad98b-1258-4217-9ecc-7988d1a43e2f",
   "metadata": {},
   "outputs": [
    {
     "name": "stdin",
     "output_type": "stream",
     "text": [
      " 5 17\n"
     ]
    },
    {
     "name": "stdout",
     "output_type": "stream",
     "text": [
      "4\n"
     ]
    }
   ],
   "source": [
    "# q에 append 하지 않으면 while이 반복되지 않아..\n",
    "\n",
    "from collections import deque\n",
    "\n",
    "N, K = map(int, input().split())\n",
    "MAX = 100000\n",
    "visited = [0] * MAX\n",
    "\n",
    "def bfs(n, k):\n",
    "    q = deque()\n",
    "    q.append(n)\n",
    "    \n",
    "    while q:\n",
    "        pop = q.popleft()\n",
    "        \n",
    "        if pop == k:\n",
    "            return visited[pop]\n",
    "        \n",
    "        for i in [2*pop, pop-1, pop+1]:\n",
    "            if 0<=i<=MAX and not visited[i]:\n",
    "                visited[i] = visited[pop] + 1\n",
    "                q.append(i)\n",
    "         \n",
    "print(bfs(N, K))"
   ]
  },
  {
   "cell_type": "code",
   "execution_count": 20,
   "id": "53a5e901-cf76-4ad6-9126-4614141026c1",
   "metadata": {},
   "outputs": [
    {
     "name": "stdin",
     "output_type": "stream",
     "text": [
      " 5 17\n"
     ]
    },
    {
     "name": "stdout",
     "output_type": "stream",
     "text": [
      "4\n"
     ]
    }
   ],
   "source": [
    "from collections import deque\n",
    "\n",
    "N, K = map(int, input().split())\n",
    "MAX = 100000\n",
    "visited = [0]*(MAX+1)\n",
    "\n",
    "def bfs(n, k):\n",
    "    q = deque()\n",
    "    q.append(n)\n",
    "    \n",
    "    while q:\n",
    "        pop = q.popleft()\n",
    "        \n",
    "        if pop == k:\n",
    "            return visited[pop]\n",
    "        \n",
    "        for i in [2*pop, pop-1, pop+1]:\n",
    "            if 0<=i<MAX and visited[i] == False:\n",
    "                visited[i] = visited[pop] + 1\n",
    "                q.append(i)\n",
    "                \n",
    "print(bfs(N, K))"
   ]
  },
  {
   "cell_type": "code",
   "execution_count": null,
   "id": "67d2a530-30fa-4ac6-858a-ce38c4f622f4",
   "metadata": {},
   "outputs": [],
   "source": []
  }
 ],
 "metadata": {
  "kernelspec": {
   "display_name": "Python 3 (ipykernel)",
   "language": "python",
   "name": "python3"
  },
  "language_info": {
   "codemirror_mode": {
    "name": "ipython",
    "version": 3
   },
   "file_extension": ".py",
   "mimetype": "text/x-python",
   "name": "python",
   "nbconvert_exporter": "python",
   "pygments_lexer": "ipython3",
   "version": "3.8.12"
  }
 },
 "nbformat": 4,
 "nbformat_minor": 5
}
