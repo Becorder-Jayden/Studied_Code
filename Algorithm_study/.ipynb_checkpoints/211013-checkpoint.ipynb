{
 "cells": [
  {
   "cell_type": "code",
   "execution_count": 14,
   "id": "3817b679-d1ae-4aef-83ba-e4c76397eaa8",
   "metadata": {},
   "outputs": [
    {
     "name": "stdin",
     "output_type": "stream",
     "text": [
      " 839 237\n"
     ]
    },
    {
     "name": "stdout",
     "output_type": "stream",
     "text": [
      "938\n"
     ]
    }
   ],
   "source": [
    "# 2908 상수\n",
    "\n",
    "a, b = input().split()\n",
    "\n",
    "a=a[::-1]\n",
    "b=b[::-1]\n",
    "print(max(a, b))"
   ]
  },
  {
   "cell_type": "code",
   "execution_count": null,
   "id": "a3cdae7b-80f2-441d-9abc-8438fb9a9763",
   "metadata": {},
   "outputs": [],
   "source": []
  }
 ],
 "metadata": {
  "kernelspec": {
   "display_name": "Python 3",
   "language": "python",
   "name": "python3"
  },
  "language_info": {
   "codemirror_mode": {
    "name": "ipython",
    "version": 3
   },
   "file_extension": ".py",
   "mimetype": "text/x-python",
   "name": "python",
   "nbconvert_exporter": "python",
   "pygments_lexer": "ipython3",
   "version": "3.8.8"
  }
 },
 "nbformat": 4,
 "nbformat_minor": 5
}
