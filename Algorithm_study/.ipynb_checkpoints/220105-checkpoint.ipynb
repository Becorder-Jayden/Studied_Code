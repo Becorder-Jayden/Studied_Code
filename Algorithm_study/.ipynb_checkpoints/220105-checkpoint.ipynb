{
 "cells": [
  {
   "cell_type": "code",
   "execution_count": 1,
   "id": "17c3f04c-d7c0-4f30-abdf-63e835a4b0a6",
   "metadata": {},
   "outputs": [],
   "source": [
    "# Silver II \n",
    "# 1260 DFS와 BFS _복습"
   ]
  },
  {
   "cell_type": "code",
   "execution_count": 34,
   "id": "b3dfa193-50c4-46a6-9bfd-21a8b0264fd9",
   "metadata": {},
   "outputs": [
    {
     "name": "stdin",
     "output_type": "stream",
     "text": [
      " 4 5 1\n"
     ]
    },
    {
     "name": "stdout",
     "output_type": "stream",
     "text": [
      "[[], [], [], [], []]\n",
      "[[False], [False], [False], [False], [False]]\n",
      "[False, False, False, False, False]\n"
     ]
    }
   ],
   "source": [
    "n, m, v = map(int, input().split())\n",
    "graph = [[] for i in range(n+1)]\n",
    "visited = [[False] for i in range(n+1)]\n",
    "visited = [False]*(n+1)\n",
    "\n",
    "print(graph)\n",
    "print(visited2)\n",
    "print(visited)\n",
    "\n",
    "# for i in range(M):\n",
    "#     a, b = map(int, input().split())\n",
    "#     graph[a].append(b)\n",
    "#     graph[b].append(a)  # 간선 양방향 조건\n",
    "\n",
    "# def dfs(graph, v, visited):\n",
    "#     visited[v] = True\n",
    "#     print(v, end = ' ')\n",
    "#     for i in graph[v]:\n",
    "#         if not visited[i]:\n",
    "#             dfs(graph, i, visited)\n",
    "            \n",
    "# dfs(graph, 1, visited)"
   ]
  },
  {
   "cell_type": "code",
   "execution_count": null,
   "id": "66d4b116-ed29-4dfd-92cd-375b37daf605",
   "metadata": {},
   "outputs": [],
   "source": []
  }
 ],
 "metadata": {
  "kernelspec": {
   "display_name": "Python 3 (ipykernel)",
   "language": "python",
   "name": "python3"
  },
  "language_info": {
   "codemirror_mode": {
    "name": "ipython",
    "version": 3
   },
   "file_extension": ".py",
   "mimetype": "text/x-python",
   "name": "python",
   "nbconvert_exporter": "python",
   "pygments_lexer": "ipython3",
   "version": "3.8.12"
  }
 },
 "nbformat": 4,
 "nbformat_minor": 5
}
