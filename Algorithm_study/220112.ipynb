{
 "cells": [
  {
   "cell_type": "markdown",
   "id": "88c136aa-f087-4ff9-b89d-6e40fadc7545",
   "metadata": {},
   "source": [
    "# 2022.01.12"
   ]
  },
  {
   "cell_type": "code",
   "execution_count": null,
   "id": "63a23f91-7f32-4344-810b-f01a4edc94c5",
   "metadata": {},
   "outputs": [],
   "source": [
    "# Silver V\n",
    "# 1158 요세푸스 문제"
   ]
  },
  {
   "cell_type": "code",
   "execution_count": 48,
   "id": "7f3f7437-3742-4d2a-a9ef-73d81ce7906f",
   "metadata": {},
   "outputs": [
    {
     "name": "stdin",
     "output_type": "stream",
     "text": [
      " 7 3\n"
     ]
    },
    {
     "name": "stdout",
     "output_type": "stream",
     "text": [
      "3 6 2 7 5 1 4\n"
     ]
    }
   ],
   "source": [
    "from collections import deque\n",
    "\n",
    "N, K = map(int, input().split())\n",
    "queue = deque(list(range(1, N+1)))\n",
    "li = []\n",
    "\n",
    "while queue:\n",
    "    for i in range(K-1):\n",
    "        pop = queue.popleft()\n",
    "        queue.append(pop)\n",
    "\n",
    "    insert = queue.popleft()\n",
    "    li.append(insert)\n",
    "\n",
    "print(*li)"
   ]
  },
  {
   "cell_type": "markdown",
   "id": "1cffa41d-b93c-4f55-b7d1-2378147ba31e",
   "metadata": {},
   "source": [
    "---"
   ]
  },
  {
   "cell_type": "code",
   "execution_count": 49,
   "id": "17664456-38f9-453f-9b47-e0c12da244ad",
   "metadata": {},
   "outputs": [],
   "source": [
    "# Silver I\n",
    "# 7569 토마토"
   ]
  },
  {
   "cell_type": "code",
   "execution_count": 171,
   "id": "aab5bd15-ac0f-4ce6-9c63-3602ee991c8e",
   "metadata": {},
   "outputs": [
    {
     "name": "stdin",
     "output_type": "stream",
     "text": [
      " 5 3 1 \n",
      " 0 -1 0 0 0\n",
      " -1 -1 0 1 1 \n",
      " 0 0 0 1 1\n"
     ]
    },
    {
     "name": "stdout",
     "output_type": "stream",
     "text": [
      "[[0, -1, 0, 0, 0], [-1, -1, 0, 1, 1], [0, 0, 0, 1, 1]]\n"
     ]
    }
   ],
   "source": [
    "M, N, H = map(int, input().split())\n",
    "house = []\n",
    "floor = []\n",
    "\n",
    "for k in range(H):\n",
    "    floor = [list(map(int, input().split())) for i in range(N)]\n",
    "    house.append(floor)\n",
    "\n",
    "for i in house:\n",
    "    print(i)"
   ]
  },
  {
   "cell_type": "code",
   "execution_count": 172,
   "id": "897b3232-298b-42d9-8a78-00316e4301a9",
   "metadata": {},
   "outputs": [],
   "source": [
    "from collections import deque\n",
    "\n",
    "def bfs(graph):\n",
    "    queue = deque()\n",
    "    \n",
    "    for k in range(H):\n",
    "        for j in range(N):\n",
    "            for i in range(M):\n",
    "                if house[k][j][i] == 1:\n",
    "                    queue.append((i, j, k))\n",
    "                    \n",
    "    dx = [0,0,-1,1,0,0]\n",
    "    dy = [1,-1,0,0,0,0]\n",
    "    dz = [0,0,0,0,1,-1]\n",
    "                \n",
    "    while queue:\n",
    "        x, y, z = queue.popleft()\n",
    "        \n",
    "        for i in range(6):\n",
    "            nx = x+dx[i]\n",
    "            ny = y+dy[i]\n",
    "            nz = z+dz[i]\n",
    "            \n",
    "            if 0<=nx<M and 0<=ny<N and 0<=nz<H:\n",
    "                if house[nz][ny][nx] == 0:\n",
    "                    queue.append((nx, ny, nz))\n",
    "                    house[nz][ny][nx] = house[z][y][x] + 1\n",
    "    return graph\n"
   ]
  },
  {
   "cell_type": "code",
   "execution_count": 173,
   "id": "a8ebf3c8-3c46-4cd9-b1f1-3f3501c7dfb3",
   "metadata": {},
   "outputs": [
    {
     "name": "stdout",
     "output_type": "stream",
     "text": [
      "-1\n",
      "3\n"
     ]
    }
   ],
   "source": [
    "li = []\n",
    "\n",
    "for i in bfs(house):\n",
    "    for j in i:\n",
    "        if 0 in j:\n",
    "            print(-1)\n",
    "        else:\n",
    "            li.append(max(j))\n",
    "\n",
    "print(max(li)-1)"
   ]
  },
  {
   "cell_type": "code",
   "execution_count": 180,
   "id": "ec931fcd-bf71-4eb7-b13a-a2144e67391b",
   "metadata": {},
   "outputs": [
    {
     "name": "stdin",
     "output_type": "stream",
     "text": [
      " 4 3 2\n",
      " 1 1 1 1\n",
      " 1 1 1 1\n",
      " 1 1 1 1\n",
      " 1 1 1 1\n",
      " -1 -1 -1 -1\n",
      " 1 1 1 -1\n"
     ]
    },
    {
     "name": "stdout",
     "output_type": "stream",
     "text": [
      "0\n"
     ]
    }
   ],
   "source": [
    "M, N, H = map(int, input().split())\n",
    "house = []\n",
    "floor = []\n",
    "\n",
    "for k in range(H):\n",
    "    floor = [list(map(int, input().split())) for i in range(N)]\n",
    "    house.append(floor)\n",
    "\n",
    "##\n",
    "\n",
    "from collections import deque\n",
    "\n",
    "def bfs(graph):\n",
    "    queue = deque()\n",
    "    \n",
    "    for k in range(H):\n",
    "        for j in range(N):\n",
    "            for i in range(M):\n",
    "                if house[k][j][i] == 1:\n",
    "                    queue.append((i, j, k))\n",
    "                    \n",
    "    dx = [0,0,-1,1,0,0]\n",
    "    dy = [1,-1,0,0,0,0]\n",
    "    dz = [0,0,0,0,1,-1]\n",
    "                \n",
    "    while queue:\n",
    "        x, y, z = queue.popleft()\n",
    "        \n",
    "        for i in range(6):\n",
    "            nx = x+dx[i]\n",
    "            ny = y+dy[i]\n",
    "            nz = z+dz[i]\n",
    "            \n",
    "            if 0<=nx<M and 0<=ny<N and 0<=nz<H:\n",
    "                if house[nz][ny][nx] == 0:\n",
    "                    queue.append((nx, ny, nz))\n",
    "                    house[nz][ny][nx] = house[z][y][x] + 1\n",
    "    return graph\n",
    "\n",
    "##\n",
    "\n",
    "li = []\n",
    "\n",
    "for i in bfs(house):\n",
    "    for j in i:\n",
    "        if 0 in j:\n",
    "            li.append(0)\n",
    "        else:\n",
    "            li.append(max(j))\n",
    "\n",
    "\n",
    "if 0 in li:\n",
    "    print(-1)\n",
    "else:\n",
    "    print(max(li)-1)"
   ]
  },
  {
   "cell_type": "code",
   "execution_count": null,
   "id": "a9014a3b-9bbe-4620-8ffd-8b98c9095365",
   "metadata": {},
   "outputs": [],
   "source": []
  }
 ],
 "metadata": {
  "kernelspec": {
   "display_name": "Python 3 (ipykernel)",
   "language": "python",
   "name": "python3"
  },
  "language_info": {
   "codemirror_mode": {
    "name": "ipython",
    "version": 3
   },
   "file_extension": ".py",
   "mimetype": "text/x-python",
   "name": "python",
   "nbconvert_exporter": "python",
   "pygments_lexer": "ipython3",
   "version": "3.8.12"
  }
 },
 "nbformat": 4,
 "nbformat_minor": 5
}
