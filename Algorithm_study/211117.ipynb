{
 "cells": [
  {
   "cell_type": "markdown",
   "id": "1ee214b3-abf9-4bc9-9905-d7184d5c1f5b",
   "metadata": {},
   "source": [
    "# 2021.11.17"
   ]
  },
  {
   "cell_type": "code",
   "execution_count": 1,
   "id": "4262f87d-fdac-4d2f-a993-31ab810527ee",
   "metadata": {},
   "outputs": [],
   "source": [
    "# Bronze II\n",
    "# 13300 방 배정"
   ]
  },
  {
   "cell_type": "code",
   "execution_count": 54,
   "id": "c2f5cbd6-9799-439f-85be-77e75ef3a1dd",
   "metadata": {},
   "outputs": [
    {
     "name": "stdin",
     "output_type": "stream",
     "text": [
      " 16 2\n",
      " 1 1\n",
      " 0 1\n",
      " 1 1\n",
      " 0 2\n",
      " 1 2\n",
      " 0 2\n",
      " 0 3\n",
      " 1 3\n",
      " 1 4\n",
      " 1 3\n",
      " 1 3\n",
      " 0 6\n",
      " 1 5\n",
      " 0 5\n",
      " 1 5\n",
      " 1 6\n"
     ]
    },
    {
     "name": "stdout",
     "output_type": "stream",
     "text": [
      "[[1, 2], [2, 1], [1, 3], [0, 1], [1, 2], [1, 1]]\n",
      "12\n"
     ]
    }
   ],
   "source": [
    "room = []\n",
    "cnt = 0\n",
    "\n",
    "for i in range(6):\n",
    "    grade = []\n",
    "    for j in range(2):\n",
    "        grade.append(0)\n",
    "    room.append(grade)\n",
    "    \n",
    "N, K = map(int, input().split())\n",
    "\n",
    "for i in range(N):\n",
    "    S, Y = map(int, input().split())\n",
    "    room[Y-1][S] += 1\n",
    "\n",
    "for i in room:\n",
    "    for j in grade:\n",
    "        if j > K:\n",
    "            cnt += 1 \n",
    "            j = j-K\n",
    "        elif j>0:\n",
    "            cnt+=1\n",
    "            \n",
    "print(room)\n",
    "print(cnt)     "
   ]
  },
  {
   "cell_type": "code",
   "execution_count": 68,
   "id": "e50a38cf-5b91-4314-9d10-226790f44d4d",
   "metadata": {},
   "outputs": [
    {
     "name": "stdin",
     "output_type": "stream",
     "text": [
      " 3 3\n",
      " 0 3\n",
      " 1 5\n",
      " 0 6\n"
     ]
    },
    {
     "name": "stdout",
     "output_type": "stream",
     "text": [
      "6\n"
     ]
    }
   ],
   "source": [
    "room = []\n",
    "cnt = 0\n",
    "\n",
    "for i in range(6):\n",
    "    grade = []\n",
    "    for j in range(2):\n",
    "        grade.append(0)\n",
    "    room.append(grade)\n",
    "    \n",
    "N, K = map(int, input().split())\n",
    "\n",
    "for i in range(N):\n",
    "    S, Y = map(int, input().split())\n",
    "    room[Y-1][S] += 1\n",
    "\n",
    "import math\n",
    "\n",
    "\n",
    "\n",
    "print(cnt)\n",
    "\n",
    "# Q.조언?\n",
    "# A. math ceil 사용해서 올림 적용"
   ]
  },
  {
   "cell_type": "markdown",
   "id": "951d06a6-b856-44a3-a6c4-4118e5d18035",
   "metadata": {},
   "source": [
    "---"
   ]
  },
  {
   "cell_type": "code",
   "execution_count": 69,
   "id": "9b50c05e-8f4c-49f7-a758-fc5d5abbaa88",
   "metadata": {},
   "outputs": [],
   "source": [
    "# Silver V\n",
    "# 1475 방 번호"
   ]
  },
  {
   "cell_type": "code",
   "execution_count": 130,
   "id": "06bfc9c7-6ed8-4679-bab1-c3c47879c45b",
   "metadata": {},
   "outputs": [
    {
     "name": "stdin",
     "output_type": "stream",
     "text": [
      " 888888\n"
     ]
    },
    {
     "name": "stdout",
     "output_type": "stream",
     "text": [
      "6\n"
     ]
    }
   ],
   "source": [
    "# 풀이 참고_깨지고 부서저라\n",
    "\n",
    "N = input()\n",
    "a = {'0':0, '1':0, '2':0, '3':0, '4':0, '5':0, '6':0, '7':0, '8':0}\n",
    "\n",
    "for i in N:\n",
    "    if i == '9':\n",
    "        a['6'] += 1 \n",
    "    else:\n",
    "        a[i] += 1 \n",
    "\n",
    "if a['6']%2 == 0:\n",
    "    a['6'] = a['6']//2\n",
    "else:\n",
    "    a['6'] = a['6']//2 + 1\n",
    "    \n",
    "print(max(a.values()))      "
   ]
  },
  {
   "cell_type": "code",
   "execution_count": null,
   "id": "19bc5844-ad9c-49eb-a426-81990505b039",
   "metadata": {},
   "outputs": [],
   "source": []
  }
 ],
 "metadata": {
  "kernelspec": {
   "display_name": "Python 3 (ipykernel)",
   "language": "python",
   "name": "python3"
  },
  "language_info": {
   "codemirror_mode": {
    "name": "ipython",
    "version": 3
   },
   "file_extension": ".py",
   "mimetype": "text/x-python",
   "name": "python",
   "nbconvert_exporter": "python",
   "pygments_lexer": "ipython3",
   "version": "3.8.12"
  }
 },
 "nbformat": 4,
 "nbformat_minor": 5
}
