{
 "cells": [
  {
   "cell_type": "markdown",
   "id": "c224a015-fde8-4213-b9f3-f941d561b801",
   "metadata": {},
   "source": [
    "# 2022.01.25"
   ]
  },
  {
   "cell_type": "code",
   "execution_count": 1,
   "id": "84776fb2-fb69-44e4-be43-ef6b206b856b",
   "metadata": {},
   "outputs": [],
   "source": [
    "# Silver III\n",
    "# 14889 스타트와 링크"
   ]
  },
  {
   "cell_type": "code",
   "execution_count": 12,
   "id": "0c0ea015-15fd-49ef-8eed-b64877fc253d",
   "metadata": {},
   "outputs": [
    {
     "name": "stdout",
     "output_type": "stream",
     "text": [
      "0 1\n",
      "0 2\n",
      "0 3\n",
      "0 4\n",
      "1 0\n",
      "1 2\n",
      "1 3\n",
      "1 4\n",
      "2 0\n",
      "2 1\n",
      "2 3\n",
      "2 4\n",
      "3 0\n",
      "3 1\n",
      "3 2\n",
      "3 4\n",
      "4 0\n",
      "4 1\n",
      "4 2\n",
      "4 3\n",
      "None\n"
     ]
    }
   ],
   "source": [
    "# N = int(input())\n",
    "# graph = []\n",
    "\n",
    "# for i in range(N):\n",
    "#     arr = list(map(int, input().split()))\n",
    "#     graph.append(arr)\n",
    "    \n",
    "def dfs(start, seq): \n",
    "    if len(seq)==N//2:\n",
    "        print(*seq)\n",
    "        return\n",
    "        \n",
    "    \n",
    "    for i in range(N+1):\n",
    "        if i not in seq:\n",
    "            seq.append(i)\n",
    "            dfs(start, seq)\n",
    "            seq.pop()\n",
    "\n",
    "print(dfs(1, []))"
   ]
  },
  {
   "cell_type": "code",
   "execution_count": null,
   "id": "353d2351-6699-42bd-a5db-b7c9e8309cce",
   "metadata": {},
   "outputs": [],
   "source": []
  }
 ],
 "metadata": {
  "kernelspec": {
   "display_name": "Python 3 (ipykernel)",
   "language": "python",
   "name": "python3"
  },
  "language_info": {
   "codemirror_mode": {
    "name": "ipython",
    "version": 3
   },
   "file_extension": ".py",
   "mimetype": "text/x-python",
   "name": "python",
   "nbconvert_exporter": "python",
   "pygments_lexer": "ipython3",
   "version": "3.8.12"
  }
 },
 "nbformat": 4,
 "nbformat_minor": 5
}
