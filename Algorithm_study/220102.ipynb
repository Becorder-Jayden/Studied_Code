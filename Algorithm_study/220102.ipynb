{
 "cells": [
  {
   "cell_type": "code",
   "execution_count": 1,
   "id": "31aeaf8b-84f0-4d0d-bcde-20e7261d8016",
   "metadata": {},
   "outputs": [],
   "source": [
    "# dfs/bfs 연습"
   ]
  },
  {
   "cell_type": "code",
   "execution_count": 2,
   "id": "3fa46016-3b97-45e0-8ca7-cb209696c171",
   "metadata": {},
   "outputs": [],
   "source": [
    "# Silver II\n",
    "# 1260번 DFS와 BFS"
   ]
  },
  {
   "cell_type": "code",
   "execution_count": 34,
   "id": "1956bf90-451f-4526-9267-cd0701f41d17",
   "metadata": {},
   "outputs": [
    {
     "name": "stdin",
     "output_type": "stream",
     "text": [
      " 4 5 1\n",
      " 1 2\n",
      " 1 3\n",
      " 1 4\n",
      " 2 4\n",
      " 3 4\n"
     ]
    },
    {
     "name": "stdout",
     "output_type": "stream",
     "text": [
      "4 2 3 4 "
     ]
    }
   ],
   "source": [
    "n, m, v = map(int, input().split())\n",
    "graph = [[] for i in range(n+1)]\n",
    "visited = [False]*m\n",
    "\n",
    "for i in range(n+1):\n",
    "    s, e = map(int, input().split())\n",
    "    graph[s].append(e)\n",
    "    graph[e].append(s)\n",
    "    \n",
    "def dfs(graph, v, visited):\n",
    "    visited[v] = True\n",
    "    print(v, end = ' ')\n",
    "    for i in graph[v]:    \n",
    "        if not visited[i]:\n",
    "            dfs(graph, i, visited)\n",
    "\n",
    "            \n",
    "from collections import deque\n",
    "            \n",
    "def bfs(graph, start, visited):\n",
    "    queue = deque([n])\n",
    "    visited[start] = True\n",
    "    while queue:\n",
    "        v = queue.popleft()\n",
    "        print(v, end = ' ')\n",
    "        for i in graph[v]:    \n",
    "            if not visited[i]:\n",
    "                queue.append(i)\n",
    "                visited[i] = True\n",
    "\n",
    "            \n",
    "# dfs(graph, 1, visited)\n",
    "bfs(graph, 1, visited)"
   ]
  },
  {
   "cell_type": "code",
   "execution_count": null,
   "id": "d9fbb79d-3af5-4ab7-b392-d08b961bd653",
   "metadata": {},
   "outputs": [],
   "source": [
    "from collections import deque\n",
    "\n",
    "n, m, v = map(int, input().split())\n",
    "\n",
    "graph = [[] for _ in range(n+1)]\n",
    "\n",
    "for i in range(m):\n",
    "    s, e = map(int, input().split())\n",
    "    graph[s].append(e)\n",
    "    graph[e].append(s)\n",
    "    \n",
    "    # for 구문 안에서 행해져야 정답\n",
    "    graph[s].sort()\n",
    "    graph[e].sort()\n",
    "    \n",
    "visited = [False] * (n+1)\n",
    "\n",
    "def dfs(graph, v, visited):\n",
    "    visited[v] = True\n",
    "    print(v, end = ' ')\n",
    "    for i in graph[v]:\n",
    "        if not visited[i]:\n",
    "            dfs(graph, i, visited)\n",
    "            \n",
    "def bfs(graph, v, visited):\n",
    "    visited = [False]*(n+1)    # visited가 dfs에 의해 변경 되었으므로 다시 정의 필요\n",
    "    queue = deque([v])\n",
    "    visited[v] = True\n",
    "    while queue:\n",
    "        pop = queue.popleft()\n",
    "        print(pop, end = ' ')\n",
    "        for i in graph[pop]:\n",
    "            if not visited[i]:\n",
    "                queue.append(i)\n",
    "                visited[i] = True\n",
    "        \n",
    "dfs(graph, v, visited)\n",
    "print()    # dfs와 bfs를 동시에 출력하기 위함\n",
    "bfs(graph, v, visited)"
   ]
  },
  {
   "cell_type": "code",
   "execution_count": null,
   "id": "fcba9745-3bd0-4bf8-b12e-552cb2135e40",
   "metadata": {},
   "outputs": [],
   "source": []
  }
 ],
 "metadata": {
  "kernelspec": {
   "display_name": "Python 3 (ipykernel)",
   "language": "python",
   "name": "python3"
  },
  "language_info": {
   "codemirror_mode": {
    "name": "ipython",
    "version": 3
   },
   "file_extension": ".py",
   "mimetype": "text/x-python",
   "name": "python",
   "nbconvert_exporter": "python",
   "pygments_lexer": "ipython3",
   "version": "3.8.12"
  }
 },
 "nbformat": 4,
 "nbformat_minor": 5
}
