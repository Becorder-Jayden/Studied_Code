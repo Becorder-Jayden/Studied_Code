{
 "cells": [
  {
   "cell_type": "markdown",
   "id": "08daaf80-7132-4de1-af00-09a6aecf700f",
   "metadata": {},
   "source": [
    "# 2021.12.17"
   ]
  },
  {
   "cell_type": "code",
   "execution_count": 1,
   "id": "79ee627f-85bc-496c-944b-272e375d8c4b",
   "metadata": {},
   "outputs": [],
   "source": [
    "# Bronze II\n",
    "# 2798 블랙잭"
   ]
  },
  {
   "cell_type": "code",
   "execution_count": 63,
   "id": "e77004d7-52a6-4412-ba47-c44e9970436e",
   "metadata": {
    "tags": []
   },
   "outputs": [
    {
     "name": "stdin",
     "output_type": "stream",
     "text": [
      " 5 21\n",
      " 5 6 7 8 9\n"
     ]
    },
    {
     "name": "stdout",
     "output_type": "stream",
     "text": [
      "21\n"
     ]
    }
   ],
   "source": [
    "# 정답\n",
    "N, M = map(int, input().split())\n",
    "cards = list(map(int, input().split()))\n",
    "s_li = []\n",
    "f_li = []\n",
    "\n",
    "for i in range(N):\n",
    "    for j in range(i+1, N):\n",
    "        for k in range(j+1, N):\n",
    "            if cards[i]+cards[j]+cards[k] <= M:\n",
    "                s_li.append(cards[i]+cards[j]+cards[k])\n",
    "                \n",
    "# s_li = list(set(s_li))\n",
    "# for i in s_li: # a변수를 for 문 밖에다해서, 더 작은 값 발견할 때 대체\n",
    "#     a = abs(i-M)\n",
    "#     f_li.append(a)\n",
    "    \n",
    "print(max(s_li))\n",
    "    \n",
    "# print(s_li[f_li.index(min(f_li))])"
   ]
  },
  {
   "cell_type": "code",
   "execution_count": 66,
   "id": "9a33751f-0f37-443a-92e0-e79286da7a47",
   "metadata": {},
   "outputs": [
    {
     "name": "stdin",
     "output_type": "stream",
     "text": [
      " 10 500\n",
      " 93 181 245 214 315 36 185 138 216 295\n"
     ]
    },
    {
     "name": "stdout",
     "output_type": "stream",
     "text": [
      "[488, 310, 459, 412, 490, 374, 476, 343, 492, 445, 444, 314, 267, 345, 424, 416, 494, 447, 462, 431, 402, 355, 433, 495, 466, 419, 497, 435, 388, 466, 489, 359, 437, 390, 469]\n",
      "497\n"
     ]
    }
   ],
   "source": [
    "N, M = map(int, input().split())\n",
    "cards = list(map(int, input().split()))\n",
    "s_li = []\n",
    "\n",
    "for i in range(N):\n",
    "    for j in range(i+1, N):\n",
    "        for k in range(j+1, N):\n",
    "            if cards[i]+cards[j]+cards[k] <= M:\n",
    "                s_li.append(cards[i]+cards[j]+cards[k])\n",
    "                    \n",
    "print(max(s_li))"
   ]
  }
 ],
 "metadata": {
  "kernelspec": {
   "display_name": "Python 3 (ipykernel)",
   "language": "python",
   "name": "python3"
  },
  "language_info": {
   "codemirror_mode": {
    "name": "ipython",
    "version": 3
   },
   "file_extension": ".py",
   "mimetype": "text/x-python",
   "name": "python",
   "nbconvert_exporter": "python",
   "pygments_lexer": "ipython3",
   "version": "3.8.12"
  }
 },
 "nbformat": 4,
 "nbformat_minor": 5
}
