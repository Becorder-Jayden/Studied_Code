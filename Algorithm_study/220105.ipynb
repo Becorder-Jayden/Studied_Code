{
 "cells": [
  {
   "cell_type": "code",
   "execution_count": 1,
   "id": "17c3f04c-d7c0-4f30-abdf-63e835a4b0a6",
   "metadata": {},
   "outputs": [],
   "source": [
    "# Silver II \n",
    "# 1260 DFS와 BFS _복습"
   ]
  },
  {
   "cell_type": "code",
   "execution_count": 44,
   "id": "b3dfa193-50c4-46a6-9bfd-21a8b0264fd9",
   "metadata": {},
   "outputs": [
    {
     "name": "stdin",
     "output_type": "stream",
     "text": [
      " 4 5 1\n",
      " 1 2\n",
      " 1 3\n",
      " 1 4\n",
      " 2 4\n",
      " 3 4\n"
     ]
    },
    {
     "name": "stdout",
     "output_type": "stream",
     "text": [
      "1 2 4 3 \n",
      "1 2 3 4 "
     ]
    }
   ],
   "source": [
    "from collections import deque\n",
    "\n",
    "n, m, v = map(int, input().split())\n",
    "graph = [[] for i in range(n+1)]\n",
    "visited = [False] * (n+1)\n",
    "\n",
    "for i in range(M):\n",
    "    a, b = map(int, input().split())\n",
    "    \n",
    "    # 간선 양방향 조건\n",
    "    graph[a].append(b)\n",
    "    graph[b].append(a)\n",
    "    \n",
    "    # 정점 번호가 작은 것부터 방문하도록 정렬\n",
    "    graph[a].sort()\n",
    "    graph[b].sort()\n",
    "    \n",
    "    \n",
    "def dfs(graph, v, visited):\n",
    "    visited[v] = True\n",
    "    print(v, end = ' ')\n",
    "    for i in graph[v]:\n",
    "        if not visited[i]:\n",
    "            dfs(graph, i, visited)\n",
    "            \n",
    "            \n",
    "def bfs(graph, v, visited):\n",
    "    visited = [False]*(n+1)\n",
    "    visited[v] = True\n",
    "    queue = deque([v])  # deque는 리스트를 사용\n",
    "    \n",
    "    while queue:\n",
    "        pop = queue.popleft()\n",
    "        print(pop, end = ' ')\n",
    "\n",
    "        for i in graph[pop]:\n",
    "            if not visited[i]:\n",
    "                queue.append(i)\n",
    "                visited[i] = True\n",
    "    \n",
    "    \n",
    "    \n",
    "dfs(graph, 1, visited)\n",
    "print()\n",
    "bfs(graph, 1, visited)"
   ]
  },
  {
   "cell_type": "code",
   "execution_count": 46,
   "id": "66d4b116-ed29-4dfd-92cd-375b37daf605",
   "metadata": {},
   "outputs": [
    {
     "name": "stdout",
     "output_type": "stream",
     "text": [
      "[[], [2, 3, 4], [1, 4], [1, 4], [1, 2, 3]]\n",
      "[False, True, True, True, True]\n",
      "deque([1])\n"
     ]
    }
   ],
   "source": [
    "print(graph)\n",
    "print(visited)\n",
    "print(queue)"
   ]
  }
 ],
 "metadata": {
  "kernelspec": {
   "display_name": "Python 3 (ipykernel)",
   "language": "python",
   "name": "python3"
  },
  "language_info": {
   "codemirror_mode": {
    "name": "ipython",
    "version": 3
   },
   "file_extension": ".py",
   "mimetype": "text/x-python",
   "name": "python",
   "nbconvert_exporter": "python",
   "pygments_lexer": "ipython3",
   "version": "3.8.12"
  }
 },
 "nbformat": 4,
 "nbformat_minor": 5
}
