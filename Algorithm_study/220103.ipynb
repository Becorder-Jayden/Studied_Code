{
 "cells": [
  {
   "cell_type": "code",
   "execution_count": 1,
   "id": "7164e37f-3cee-4804-a8c5-e8bb4911fd54",
   "metadata": {},
   "outputs": [],
   "source": [
    "# 단지 번호 붙이기 코드 복습"
   ]
  },
  {
   "cell_type": "code",
   "execution_count": 58,
   "id": "9b6849e9-0f80-4fff-825d-c802ee7c4fd1",
   "metadata": {},
   "outputs": [
    {
     "name": "stdin",
     "output_type": "stream",
     "text": [
      " 7\n",
      " 0110100\n",
      " 0110101\n",
      " 1110101\n",
      " 0000111\n",
      " 0100000\n",
      " 0111110\n",
      " 0111000\n"
     ]
    },
    {
     "name": "stdout",
     "output_type": "stream",
     "text": [
      "[7, 8, 9]\n",
      "3\n",
      "7\n",
      "8\n",
      "9\n"
     ]
    }
   ],
   "source": [
    "# n의 개수, graph, visited 정의\n",
    "n = int(input())\n",
    "graph = [[0]*n for _ in range(n)]\n",
    "visited = [[False]*n for _ in range(n)]\n",
    "\n",
    "# 입력값 graph에 기입\n",
    "for i in range(n):\n",
    "    line = input()\n",
    "    for j, b in enumerate(line):\n",
    "        graph[i][j] = int(b)\n",
    "        \n",
    "# 상하좌우 이동 설정 \n",
    "dx = [0, 0, -1, 1]\n",
    "dy = [1, -1, 0, 0]\n",
    "\n",
    "# dfs 정의\n",
    "def dfs(x, y):\n",
    "    global cnt    # 함수 작성 후 추가 \n",
    "    visited[x][y] = True\n",
    "    if graph[x][y] == 1:\n",
    "        cnt += 1\n",
    "    for i in range(4):\n",
    "        nx = x + dx[i]\n",
    "        ny = y + dy[i]\n",
    "        if 0 <= nx < n and 0 <= ny < n:\n",
    "            if visited[nx][ny] == False and graph[nx][ny] == 1:\n",
    "                dfs(nx, ny)\n",
    "\n",
    "cnt = 0\n",
    "numlist = []\n",
    "\n",
    "# 준비된 dfs를 가지고 graph를 탐색\n",
    "for x in range(n):\n",
    "    for y in range(n):\n",
    "        if graph[x][y] == 1 and visited[x][y] == False:\n",
    "            dfs(x, y)\n",
    "            numlist.append(cnt)  # cnt된 묶음을 numlist에 입력 \n",
    "            cnt = 0  # cnt를 초기화해서 다음 계산에 영향을 주지 않도록\n",
    "\n",
    "# 문제 답 도출\n",
    "print(len(numlist))\n",
    "for n in sorted(numlist):\n",
    "    print(n)"
   ]
  },
  {
   "cell_type": "code",
   "execution_count": null,
   "id": "6bd3b614-7ab2-4871-932d-8191d3f8f125",
   "metadata": {},
   "outputs": [],
   "source": []
  }
 ],
 "metadata": {
  "kernelspec": {
   "display_name": "Python 3 (ipykernel)",
   "language": "python",
   "name": "python3"
  },
  "language_info": {
   "codemirror_mode": {
    "name": "ipython",
    "version": 3
   },
   "file_extension": ".py",
   "mimetype": "text/x-python",
   "name": "python",
   "nbconvert_exporter": "python",
   "pygments_lexer": "ipython3",
   "version": "3.8.12"
  }
 },
 "nbformat": 4,
 "nbformat_minor": 5
}
