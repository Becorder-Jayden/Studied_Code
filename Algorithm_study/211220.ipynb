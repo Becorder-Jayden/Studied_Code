{
 "cells": [
  {
   "cell_type": "markdown",
   "id": "b8202989-cd06-415e-98dc-437d7a9e7858",
   "metadata": {},
   "source": [
    "# 2021.12.20"
   ]
  },
  {
   "cell_type": "code",
   "execution_count": 1,
   "id": "0582ceca-4786-45ef-ac65-ffd8845a7c81",
   "metadata": {},
   "outputs": [],
   "source": [
    "# Silver V\n",
    "# 7568 덩치"
   ]
  },
  {
   "cell_type": "code",
   "execution_count": 12,
   "id": "8021c7e4-3cfa-469e-8974-c0ae6654b6f1",
   "metadata": {},
   "outputs": [
    {
     "name": "stdin",
     "output_type": "stream",
     "text": [
      " 5\n",
      " 55 185\n",
      " 58 183\n",
      " 88 186\n",
      " 60 175\n",
      " 46 155\n"
     ]
    },
    {
     "name": "stdout",
     "output_type": "stream",
     "text": [
      "2 2 1 2 5 "
     ]
    }
   ],
   "source": [
    "N = int(input())\n",
    "li = []\n",
    "\n",
    "for i in range(N):\n",
    "    w, h = map(int, input().split())\n",
    "    li.append([w, h])\n",
    "    \n",
    "for i in range(N):\n",
    "    rank = 1\n",
    "    for j in range(N):\n",
    "        if (li[i][0] < li[j][0]) and (li[i][1]<li[j][1]):\n",
    "            rank += 1 \n",
    "    print(rank, end = ' ')"
   ]
  },
  {
   "cell_type": "markdown",
   "id": "09a9f150-8e43-4cc7-b8a3-6fe89e4d2dc0",
   "metadata": {},
   "source": [
    "---"
   ]
  },
  {
   "cell_type": "code",
   "execution_count": null,
   "id": "cce2f728-402d-4c38-afa1-f3fda8a5fed2",
   "metadata": {},
   "outputs": [],
   "source": [
    "# 네이버 코테 문제\n",
    "# 룩나이트를 안겹치게 놓을 수 있도록\n",
    "# 체스판에 망가진 블럭\n",
    "\n",
    "# 건물이 1부터 N개\n",
    "# 지하보도로 연결\n",
    "# 1-2-3 4-5"
   ]
  }
 ],
 "metadata": {
  "kernelspec": {
   "display_name": "Python 3 (ipykernel)",
   "language": "python",
   "name": "python3"
  },
  "language_info": {
   "codemirror_mode": {
    "name": "ipython",
    "version": 3
   },
   "file_extension": ".py",
   "mimetype": "text/x-python",
   "name": "python",
   "nbconvert_exporter": "python",
   "pygments_lexer": "ipython3",
   "version": "3.8.12"
  }
 },
 "nbformat": 4,
 "nbformat_minor": 5
}
